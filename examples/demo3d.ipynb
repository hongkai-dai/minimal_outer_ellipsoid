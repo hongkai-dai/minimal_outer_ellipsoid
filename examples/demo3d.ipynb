{
 "cells": [
  {
   "cell_type": "markdown",
   "metadata": {},
   "source": [
    "We can find the minimal outer ellipsoid of a basic semi-algebraic set $\\{x | p_i(x) \\le 0, i=1, ..., N\\}$ through a convex optimization. In this notebook, we demonstrate our approach on a 3D example."
   ]
  },
  {
   "cell_type": "code",
   "execution_count": null,
   "metadata": {},
   "outputs": [],
   "source": [
    "import jupyter_black\n",
    "\n",
    "jupyter_black.load()\n",
    "import numpy as np\n",
    "import matplotlib.pyplot as plt\n",
    "import pydrake.solvers as solvers\n",
    "import pydrake.symbolic as sym\n",
    "import minimal_outer_ellipsoid.ellipsoid as ellipsoid"
   ]
  },
  {
   "cell_type": "markdown",
   "metadata": {},
   "source": [
    "Our inner basic semi-algebraic set is $\\{x | x_0^4 + x_1^4 + x_2 - 1.925x_0^2x_1^2 - 1 \\le 0, x_2 \\ge 0\\}$, we first draw this set below"
   ]
  },
  {
   "cell_type": "code",
   "execution_count": null,
   "metadata": {},
   "outputs": [],
   "source": [
    "def plot_inner_shape(ax):\n",
    "    X, Y = np.meshgrid(np.linspace(-2, 2, 2000), np.linspace(-2, 2, 2000))\n",
    "    Z = 1 - X**4 - Y**4 + 1.925 * X**2 * Y**2\n",
    "    Z1 = np.copy(Z)\n",
    "    Z1[Z1 < 0] = np.nan\n",
    "    ax.plot_surface(X, Y, Z1, color=\"b\")\n",
    "    Z2 = np.zeros_like(X)\n",
    "    Z2[Z < 0] = np.nan\n",
    "    ax.plot_surface(X, Y, Z2, color=\"b\")\n",
    "\n",
    "\n",
    "fig = plt.figure()\n",
    "ax = fig.add_subplot(projection=\"3d\")\n",
    "plot_inner_shape(ax)\n",
    "ax.axis(\"equal\")\n",
    "fig.show()"
   ]
  },
  {
   "cell_type": "code",
   "execution_count": null,
   "metadata": {},
   "outputs": [],
   "source": [
    "prog = solvers.MathematicalProgram()\n",
    "x = prog.NewIndeterminates(3, \"x\")\n",
    "S = prog.NewSymmetricContinuousVariables(3, \"S\")\n",
    "b = prog.NewContinuousVariables(3, \"b\")\n",
    "c = prog.NewContinuousVariables(1, \"c\")[0]\n",
    "\n",
    "inner_polynomials = np.array(\n",
    "    [\n",
    "        sym.Polynomial(\n",
    "            x[0] ** 4 + x[1] ** 4 + x[2] - 1.925 * x[0] ** 2 * x[1] ** 2 - 1\n",
    "        ),\n",
    "        sym.Polynomial(-x[2]),\n",
    "    ]\n",
    ")\n",
    "ellipsoid.add_containment_constraint(\n",
    "    prog,\n",
    "    x,\n",
    "    inner_polynomials,\n",
    "    S,\n",
    "    b,\n",
    "    c,\n",
    "    inner_poly_lagrangians_degrees=[2, 4],\n",
    "    ellipsoid_lagrangian=None,\n",
    ")  # sym.Polynomial(x[0]**2 + x[1]**2 + x[2]**2))\n",
    "\n",
    "ellipsoid.add_minimize_volume_cost(prog, S, b, c)\n",
    "\n",
    "result = solvers.Solve(prog)\n",
    "assert result.is_success()\n",
    "S_sol = result.GetSolution(S)\n",
    "b_sol = result.GetSolution(b)\n",
    "c_sol = result.GetSolution(c)"
   ]
  },
  {
   "cell_type": "code",
   "execution_count": null,
   "metadata": {},
   "outputs": [],
   "source": [
    "fig = plt.figure()\n",
    "ax = fig.add_subplot(projection=\"3d\")\n",
    "plot_inner_shape(ax)\n",
    "\n",
    "# Now plot the ellipsoid.\n",
    "A, d = ellipsoid.to_affine_ball(S_sol, b_sol, c_sol)\n",
    "\n",
    "U, V = np.meshgrid(np.linspace(0, 2 * np.pi, 50), np.linspace(0, np.pi, 50))\n",
    "X_sphere = np.cos(U) * np.sin(V)\n",
    "Y_sphere = np.sin(U) * np.sin(V)\n",
    "Z_sphere = np.cos(V)\n",
    "XYZ_ellipsoid = A @ (\n",
    "    np.concatenate(\n",
    "        (\n",
    "            X_sphere.reshape((1, -1)),\n",
    "            Y_sphere.reshape((1, -1)),\n",
    "            Z_sphere.reshape((1, -1)),\n",
    "        ),\n",
    "        axis=0,\n",
    "    )\n",
    "    + d.reshape((-1, 1))\n",
    ")\n",
    "X_ellipsoid = XYZ_ellipsoid[0, :].reshape(X_sphere.shape)\n",
    "Y_ellipsoid = XYZ_ellipsoid[1, :].reshape(X_sphere.shape)\n",
    "Z_ellipsoid = XYZ_ellipsoid[2, :].reshape(X_sphere.shape)\n",
    "h_ellipsoid = ax.plot_surface(\n",
    "    X_ellipsoid, Y_ellipsoid, Z_ellipsoid, color=[0, 1, 0, 0.2]\n",
    ")\n",
    "ax.axis(\"equal\")\n",
    "fig.show()"
   ]
  }
 ],
 "metadata": {
  "kernelspec": {
   "display_name": "venv",
   "language": "python",
   "name": "python3"
  },
  "language_info": {
   "codemirror_mode": {
    "name": "ipython",
    "version": 3
   },
   "file_extension": ".py",
   "mimetype": "text/x-python",
   "name": "python",
   "nbconvert_exporter": "python",
   "pygments_lexer": "ipython3",
   "version": "3.10.12"
  },
  "orig_nbformat": 4
 },
 "nbformat": 4,
 "nbformat_minor": 2
}
