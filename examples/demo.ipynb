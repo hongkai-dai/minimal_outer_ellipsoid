{
 "cells": [
  {
   "cell_type": "markdown",
   "metadata": {},
   "source": [
    "We demonstrate how to find the minimal outer ellipsoid of a basic semi-algebraic set. We can find such outer ellipsoid through a convex optimization problem."
   ]
  },
  {
   "cell_type": "code",
   "execution_count": null,
   "metadata": {},
   "outputs": [],
   "source": [
    "import jupyter_black\n",
    "\n",
    "jupyter_black.load()\n",
    "import numpy as np\n",
    "import matplotlib.pyplot as plt\n",
    "import minimal_outer_ellipsoid.ellipsoid as ellipsoid\n",
    "import pydrake.solvers as solvers\n",
    "import pydrake.symbolic as sym"
   ]
  },
  {
   "cell_type": "markdown",
   "metadata": {},
   "source": [
    "First we show a 2D example, where we find the minimal ellipsoid of the following shape $\\{x | x_0^4 + x_1^4 -1.925x_0^2x_1^2\\le 1, x_1 \\le 1.25\\}$"
   ]
  },
  {
   "cell_type": "code",
   "execution_count": null,
   "metadata": {},
   "outputs": [],
   "source": [
    "# Plot the inner shape {x | x₀⁴+x₁⁴−1.925x₀²x₁²≤ 1, x₁≤ 1.25}.\n",
    "def plot_inner_shape(ax):\n",
    "    X, Y = np.meshgrid(np.linspace(-2, 2, 100), np.linspace(-2, 2, 100))\n",
    "    Z1 = X**4 + Y**4 - 1.925 * X**2 * Y**2 - 1\n",
    "    Z2 = Y - 1.25\n",
    "    Z = np.max(\n",
    "        np.concatenate(\n",
    "            (np.expand_dims(Z1, axis=2), np.expand_dims(Z2, axis=2)), axis=2\n",
    "        ),\n",
    "        axis=2,\n",
    "    )\n",
    "    ax.contour(X, Y, Z, [0])\n",
    "\n",
    "\n",
    "fig = plt.figure()\n",
    "ax = fig.add_subplot()\n",
    "plot_inner_shape(ax)\n",
    "ax.axis(\"equal\")\n",
    "fig.show()"
   ]
  },
  {
   "cell_type": "markdown",
   "metadata": {},
   "source": [
    "Now we search the minimal outer ellipsoid through a convex optimization problem."
   ]
  },
  {
   "cell_type": "code",
   "execution_count": null,
   "metadata": {},
   "outputs": [],
   "source": [
    "prog = solvers.MathematicalProgram()\n",
    "x = prog.NewIndeterminates(2)\n",
    "inner_polynomials = np.array(\n",
    "    [\n",
    "        sym.Polynomial(\n",
    "            x[0] ** 4 + x[1] ** 4 - 1.925 * x[0] ** 2 * x[1] ** 2 - 1\n",
    "        ),\n",
    "        sym.Polynomial(x[1] - 1.25),\n",
    "    ]\n",
    ")\n",
    "S = prog.NewSymmetricContinuousVariables(2, \"S\")\n",
    "b = prog.NewContinuousVariables(2, \"b\")\n",
    "c = prog.NewContinuousVariables(1, \"c\")[0]\n",
    "ellipsoid.add_containment_constraint(\n",
    "    prog,\n",
    "    x,\n",
    "    inner_polynomials,\n",
    "    S,\n",
    "    b,\n",
    "    c,\n",
    "    inner_poly_lagrangians_degrees=[2, 6],\n",
    "    ellipsoid_lagrangian=sym.Polynomial(x[0] ** 2 + x[1] ** 2),\n",
    ")\n",
    "ellipsoid.add_minimize_volume_cost(prog, S, b, c)\n",
    "result = solvers.Solve(prog)\n",
    "assert result.is_success()\n",
    "S_sol = result.GetSolution(S)\n",
    "b_sol = result.GetSolution(b)\n",
    "c_sol = result.GetSolution(c)"
   ]
  },
  {
   "cell_type": "code",
   "execution_count": null,
   "metadata": {},
   "outputs": [],
   "source": [
    "# Now we plot the optimized ellipsoid.\n",
    "\n",
    "A, d = ellipsoid.to_affine_ball(S_sol, b_sol, c_sol)\n",
    "\n",
    "theta = np.linspace(0, 2 * np.pi, 100)\n",
    "fig = plt.figure()\n",
    "ax = fig.add_subplot()\n",
    "plot_inner_shape(ax)\n",
    "ellipsoid_contour = A @ (\n",
    "    np.concatenate(\n",
    "        [np.cos(theta).reshape(1, -1), np.sin(theta).reshape(1, -1)], axis=0\n",
    "    )\n",
    "    + d.reshape((2, 1))\n",
    ")\n",
    "ax.plot(ellipsoid_contour[0], ellipsoid_contour[1])\n",
    "ax.axis(\"equal\")\n",
    "fig.show()"
   ]
  }
 ],
 "metadata": {
  "kernelspec": {
   "display_name": "venv",
   "language": "python",
   "name": "python3"
  },
  "language_info": {
   "codemirror_mode": {
    "name": "ipython",
    "version": 3
   },
   "file_extension": ".py",
   "mimetype": "text/x-python",
   "name": "python",
   "nbconvert_exporter": "python",
   "pygments_lexer": "ipython3",
   "version": "3.10.12"
  },
  "orig_nbformat": 4
 },
 "nbformat": 4,
 "nbformat_minor": 2
}
