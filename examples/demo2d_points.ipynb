{
 "cells": [
  {
   "cell_type": "markdown",
   "metadata": {},
   "source": [
    "We demonstrate that our code can find the smallest ellipsoid that covers some given points."
   ]
  },
  {
   "cell_type": "code",
   "execution_count": null,
   "metadata": {},
   "outputs": [],
   "source": [
    "import jupyter_black\n",
    "\n",
    "jupyter_black.load()\n",
    "import numpy as np\n",
    "import matplotlib.pyplot as plt\n",
    "import minimal_outer_ellipsoid.ellipsoid as ellipsoid\n",
    "import pydrake.solvers as solvers\n",
    "import pydrake.symbolic as sym"
   ]
  },
  {
   "cell_type": "markdown",
   "metadata": {},
   "source": [
    "First we set some points in 2D"
   ]
  },
  {
   "cell_type": "code",
   "execution_count": 2,
   "metadata": {},
   "outputs": [],
   "source": [
    "pts = np.array([[2, 1], [2, -1], [-2, 1], [-2, -1], [0, 1.5]])"
   ]
  },
  {
   "cell_type": "markdown",
   "metadata": {},
   "source": [
    "Now we search the minimal-volume outer ellipsoid through a convex optimization problem."
   ]
  },
  {
   "cell_type": "code",
   "execution_count": 3,
   "metadata": {},
   "outputs": [],
   "source": [
    "prog = solvers.MathematicalProgram()\n",
    "S = prog.NewSymmetricContinuousVariables(2, \"S\")\n",
    "b = prog.NewContinuousVariables(2, \"b\")\n",
    "c = prog.NewContinuousVariables(1, \"c\")[0]\n",
    "\n",
    "ellipsoid.add_pts_in_ellipsoid_constraint(prog, pts, S, b, c)\n",
    "ellipsoid.add_minimize_volume_cost(prog, S, b, c)\n",
    "result = solvers.Solve(prog)\n",
    "assert result.is_success()\n",
    "S_sol = result.GetSolution(S)\n",
    "b_sol = result.GetSolution(b)\n",
    "c_sol = result.GetSolution(c)"
   ]
  },
  {
   "cell_type": "markdown",
   "metadata": {},
   "source": []
  },
  {
   "cell_type": "code",
   "execution_count": null,
   "metadata": {},
   "outputs": [],
   "source": [
    "# Now we plot the optimized ellipsoid\n",
    "A, d = ellipsoid.to_affine_ball(S_sol, b_sol, c_sol)\n",
    "\n",
    "theta = np.linspace(0, 2 * np.pi, 100)\n",
    "fig = plt.figure()\n",
    "ax = fig.add_subplot()\n",
    "ax.scatter(pts[:, 0], pts[:, 1], c=\"r\")\n",
    "ellipsoid_contour = A @ (\n",
    "    np.concatenate(\n",
    "        [np.cos(theta).reshape(1, -1), np.sin(theta).reshape(1, -1)], axis=0\n",
    "    )\n",
    "    + d.reshape((2, 1))\n",
    ")\n",
    "ax.plot(ellipsoid_contour[0], ellipsoid_contour[1])\n",
    "ax.axis(\"equal\")\n",
    "fig.show()"
   ]
  }
 ],
 "metadata": {
  "kernelspec": {
   "display_name": "venv",
   "language": "python",
   "name": "python3"
  },
  "language_info": {
   "codemirror_mode": {
    "name": "ipython",
    "version": 3
   },
   "file_extension": ".py",
   "mimetype": "text/x-python",
   "name": "python",
   "nbconvert_exporter": "python",
   "pygments_lexer": "ipython3",
   "version": "3.10.12"
  }
 },
 "nbformat": 4,
 "nbformat_minor": 2
}
